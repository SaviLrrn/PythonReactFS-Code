{
 "cells": [
  {
   "cell_type": "code",
   "execution_count": 1,
   "id": "879ad4b8-e01a-4b6e-9ef3-8619fa6078fd",
   "metadata": {},
   "outputs": [],
   "source": [
    "x = 10"
   ]
  },
  {
   "cell_type": "code",
   "execution_count": 2,
   "id": "94d60f94-8a4d-4081-98be-544f2271493f",
   "metadata": {},
   "outputs": [
    {
     "data": {
      "text/plain": [
       "int"
      ]
     },
     "execution_count": 2,
     "metadata": {},
     "output_type": "execute_result"
    }
   ],
   "source": [
    "type(x)"
   ]
  },
  {
   "cell_type": "code",
   "execution_count": 3,
   "id": "d6c80bad-d71f-413b-9264-588dafbd9b16",
   "metadata": {},
   "outputs": [],
   "source": [
    "y = 3.14"
   ]
  },
  {
   "cell_type": "code",
   "execution_count": 4,
   "id": "3e0379fc-287a-4450-84eb-ec22f23f2174",
   "metadata": {},
   "outputs": [
    {
     "data": {
      "text/plain": [
       "float"
      ]
     },
     "execution_count": 4,
     "metadata": {},
     "output_type": "execute_result"
    }
   ],
   "source": [
    "type(y)"
   ]
  },
  {
   "cell_type": "code",
   "execution_count": 5,
   "id": "bd82b02c-ee89-467c-abec-09d2b40d6485",
   "metadata": {},
   "outputs": [],
   "source": [
    "name = \"Python\""
   ]
  },
  {
   "cell_type": "code",
   "execution_count": 6,
   "id": "e16ebde6-875e-4b61-8b1a-7776f776a6d7",
   "metadata": {},
   "outputs": [
    {
     "name": "stdout",
     "output_type": "stream",
     "text": [
      "Python\n"
     ]
    }
   ],
   "source": [
    "print(name)"
   ]
  },
  {
   "cell_type": "code",
   "execution_count": 7,
   "id": "b18781cd-bbcd-43fb-bf19-f39b93561a36",
   "metadata": {},
   "outputs": [],
   "source": [
    "l = [x,y,name]"
   ]
  },
  {
   "cell_type": "code",
   "execution_count": 8,
   "id": "ec5de819-158a-449e-92f0-f4057d6aa1c0",
   "metadata": {},
   "outputs": [
    {
     "name": "stdout",
     "output_type": "stream",
     "text": [
      "[10, 3.14, 'Python']\n"
     ]
    }
   ],
   "source": [
    "print(l)"
   ]
  },
  {
   "cell_type": "code",
   "execution_count": 12,
   "id": "6323f5fc-7aea-4054-ae8f-189851e89ad4",
   "metadata": {},
   "outputs": [],
   "source": [
    "d = {'fname': 'Alfa', 'lname': 'romeo', 'age':'11'}"
   ]
  },
  {
   "cell_type": "code",
   "execution_count": 13,
   "id": "da07f40f-00f7-4319-8def-42ff5075f7ac",
   "metadata": {},
   "outputs": [
    {
     "name": "stdout",
     "output_type": "stream",
     "text": [
      "{'fname': 'Alfa', 'lname': 'romeo', 'age': '11'}\n"
     ]
    }
   ],
   "source": [
    "print(d)"
   ]
  },
  {
   "cell_type": "code",
   "execution_count": 14,
   "id": "c29d1fa5-325c-49f4-a8bd-3529af4aa530",
   "metadata": {},
   "outputs": [],
   "source": [
    "class Warehouse:\n",
    "    pupose = 'storage'\n",
    "    region = 'west'\n",
    "    size_in_sqfeet = 10000"
   ]
  },
  {
   "cell_type": "code",
   "execution_count": 15,
   "id": "365d73f4-f917-4e5f-b5f2-a2b1ddc4da1a",
   "metadata": {},
   "outputs": [],
   "source": [
    "w1 = Warehouse()"
   ]
  },
  {
   "cell_type": "code",
   "execution_count": 17,
   "id": "4948009c-ee02-4703-8c84-38be6c6f0813",
   "metadata": {},
   "outputs": [
    {
     "name": "stdout",
     "output_type": "stream",
     "text": [
      "storage west 10000\n"
     ]
    }
   ],
   "source": [
    "print(w1.pupose, w1.region, w1.size_in_sqfeet)"
   ]
  },
  {
   "cell_type": "code",
   "execution_count": 19,
   "id": "5bf418f2-ef3a-4533-8b8a-ac95c95cb64e",
   "metadata": {},
   "outputs": [
    {
     "name": "stdout",
     "output_type": "stream",
     "text": [
      "greater than 5\n"
     ]
    }
   ],
   "source": [
    "if x > 5:\n",
    "    print (\"greater than 5\")\n",
    "else:\n",
    "    print (\"less than 5\")"
   ]
  },
  {
   "cell_type": "code",
   "execution_count": 20,
   "id": "cdf6acf5-4d04-435b-9a54-84c8025cec91",
   "metadata": {},
   "outputs": [
    {
     "name": "stdout",
     "output_type": "stream",
     "text": [
      "Even 2\n",
      "odd 3\n",
      "Even 4\n",
      "odd 5\n",
      "Even 6\n",
      "odd 7\n",
      "Even 8\n",
      "odd 9\n"
     ]
    }
   ],
   "source": [
    "for num in range(2,10):\n",
    "    if (num%2 == 0):\n",
    "        print (\"Even\", num)\n",
    "        continue\n",
    "    print(\"odd\", num)"
   ]
  },
  {
   "cell_type": "code",
   "execution_count": null,
   "id": "41254fdc-5def-4410-b49d-27458e9cedb8",
   "metadata": {},
   "outputs": [],
   "source": []
  }
 ],
 "metadata": {
  "kernelspec": {
   "display_name": "Python 3 (ipykernel)",
   "language": "python",
   "name": "python3"
  },
  "language_info": {
   "codemirror_mode": {
    "name": "ipython",
    "version": 3
   },
   "file_extension": ".py",
   "mimetype": "text/x-python",
   "name": "python",
   "nbconvert_exporter": "python",
   "pygments_lexer": "ipython3",
   "version": "3.12.4"
  }
 },
 "nbformat": 4,
 "nbformat_minor": 5
}
